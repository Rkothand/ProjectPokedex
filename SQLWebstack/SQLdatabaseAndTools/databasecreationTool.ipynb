{
 "cells": [
  {
   "cell_type": "markdown",
   "metadata": {},
   "source": [
    "we're gonna try and make a SQL db using SQLite for your projectpokedex to parse vals easier in a full web stack"
   ]
  },
  {
   "cell_type": "markdown",
   "metadata": {},
   "source": [
    "import all necessary libraries\n",
    "SQLite(JSON parsing and editing)\n",
    "React if needed"
   ]
  },
  {
   "cell_type": "markdown",
   "metadata": {},
   "source": [
    "import the necessary libraries JSON and SQLite"
   ]
  },
  {
   "cell_type": "code",
   "execution_count": 75,
   "metadata": {},
   "outputs": [],
   "source": [
    "import sqlite3\n",
    "import json"
   ]
  },
  {
   "cell_type": "markdown",
   "metadata": {},
   "source": [
    "open the JSON file in python readable format"
   ]
  },
  {
   "cell_type": "code",
   "execution_count": 76,
   "metadata": {},
   "outputs": [],
   "source": [
    "with open('PokemonData.json') as f:\n",
    "    data = f.read()\n",
    "    pokemon_data = json.loads(data)\n",
    "\n",
    "\n",
    "    \n"
   ]
  },
  {
   "cell_type": "markdown",
   "metadata": {},
   "source": [
    "make new database"
   ]
  },
  {
   "cell_type": "code",
   "execution_count": 86,
   "metadata": {},
   "outputs": [],
   "source": [
    "conn = sqlite3.connect('testDB.db')\n",
    "c = conn.cursor()"
   ]
  },
  {
   "cell_type": "markdown",
   "metadata": {},
   "source": [
    "drop table if you wanna overwrite"
   ]
  },
  {
   "cell_type": "code",
   "execution_count": 87,
   "metadata": {},
   "outputs": [
    {
     "data": {
      "text/plain": [
       "<sqlite3.Cursor at 0x2167179aa40>"
      ]
     },
     "execution_count": 87,
     "metadata": {},
     "output_type": "execute_result"
    }
   ],
   "source": [
    "c.execute(\"DROP TABLE IF EXISTS pokemon\")"
   ]
  },
  {
   "cell_type": "markdown",
   "metadata": {},
   "source": [
    "create table row and columns"
   ]
  },
  {
   "cell_type": "code",
   "execution_count": 89,
   "metadata": {},
   "outputs": [
    {
     "data": {
      "text/plain": [
       "<sqlite3.Cursor at 0x2167179aa40>"
      ]
     },
     "execution_count": 89,
     "metadata": {},
     "output_type": "execute_result"
    }
   ],
   "source": [
    "c.execute('''\n",
    "    CREATE TABLE IF NOT EXISTS pokemon (\n",
    "        id INTEGER PRIMARY KEY,\n",
    "        name TEXT,\n",
    "        base_id INTEGER,\n",
    "        form_id INTEGER,\n",
    "        pokemon_type1 TEXT,\n",
    "        pokemon_type2 TEXT,\n",
    "        egg_group1 TEXT,\n",
    "        egg_group2 TEXT,\n",
    "        gender TEXT,\n",
    "        gender_ratio INTEGER,\n",
    "        color TEXT,\n",
    "        experience_group TEXT,\n",
    "        shape INTEGER,\n",
    "        generation INTEGER,\n",
    "        formName TEXT,\n",
    "        isMegaEvolution BOOLEAN,\n",
    "        hasGigantamax BOOLEAN,\n",
    "        isLegendary BOOLEAN,\n",
    "        isSubLegendary BOOLEAN,\n",
    "        isMythical BOOLEAN,\n",
    "        isBattleOnly BOOLEAN\n",
    "    )\n",
    "''')"
   ]
  },
  {
   "cell_type": "markdown",
   "metadata": {},
   "source": [
    "now we want to parse the json to find the pokemon data\n"
   ]
  },
  {
   "cell_type": "code",
   "execution_count": 90,
   "metadata": {},
   "outputs": [],
   "source": [
    "for pokemon_name in pokemon_data.keys():\n",
    "    '''all pokemon have these'''\n",
    "    pokemon_info = pokemon_data[pokemon_name]\n",
    "    base_id = pokemon_info['base_id']\n",
    "    form_id = pokemon_info['form_id']\n",
    "    pokemon_type1 = pokemon_info['pokemon_type'][0]\n",
    "    pokemon_type2 = pokemon_info['pokemon_type'][1] if len(pokemon_info['pokemon_type']) > 1 else None\n",
    "    egg_group1 = pokemon_info['egg_group'][0]\n",
    "    egg_group2 = pokemon_info['egg_group'][1] if len(pokemon_info['egg_group']) > 1 else None\n",
    "    gender = ', '.join(pokemon_info['gender'])\n",
    "    gender_ratio =  pokemon_info['gender_ratio']\n",
    "    color = pokemon_info['color']\n",
    "    experience_group = pokemon_info['experience_group']\n",
    "    shape = pokemon_info.get('shape', None)\n",
    "    generation = pokemon_info['generation']\n",
    "\n",
    "    '''some pokemon have these'''\n",
    "    formname = pokemon_info.get('form_name', None)\n",
    "    isMegaEvolution = pokemon_info.get('is_mega', False)\n",
    "    hasGigantamax = pokemon_info.get('has_gigantamax', False)\n",
    "    isLegendary = pokemon_info.get('is_legendary', False)\n",
    "    isSubLegendary = pokemon_info.get('is_sublegendary', False)\n",
    "    isMythical = pokemon_info.get('is_mythical', False)\n",
    "    isBattleOnly = pokemon_info.get('is_battle_only', False)\n",
    "\n",
    "    # Insert data into the table\n",
    "    c.execute('''\n",
    "        INSERT INTO pokemon (name, base_id, form_id, pokemon_type1, pokemon_type2, egg_group1, egg_group2, gender, gender_ratio, color, experience_group, shape, generation, formName, isMegaEvolution, hasGigantamax, isLegendary, isSubLegendary, isMythical, isBattleOnly)\n",
    "        VALUES (?, ?, ?, ?, ?, ?, ?, ?, ?, ?, ?, ?, ?, ?, ?, ?, ?, ?, ?, ?)\n",
    "    ''', (\n",
    "        pokemon_name, base_id, form_id, pokemon_type1, pokemon_type2, egg_group1, egg_group2, gender, gender_ratio, color, experience_group, shape, generation, formname, isMegaEvolution, hasGigantamax, isLegendary, isSubLegendary, isMythical, isBattleOnly\n",
    "    ))"
   ]
  },
  {
   "cell_type": "markdown",
   "metadata": {},
   "source": []
  },
  {
   "cell_type": "code",
   "execution_count": 91,
   "metadata": {},
   "outputs": [],
   "source": [
    "conn.commit()\n",
    "conn.close()"
   ]
  }
 ],
 "metadata": {
  "kernelspec": {
   "display_name": "Python 3",
   "language": "python",
   "name": "python3"
  },
  "language_info": {
   "codemirror_mode": {
    "name": "ipython",
    "version": 3
   },
   "file_extension": ".py",
   "mimetype": "text/x-python",
   "name": "python",
   "nbconvert_exporter": "python",
   "pygments_lexer": "ipython3",
   "version": "3.11.9"
  }
 },
 "nbformat": 4,
 "nbformat_minor": 2
}
